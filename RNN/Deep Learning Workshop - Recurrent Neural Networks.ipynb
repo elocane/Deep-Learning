{
 "cells": [
  {
   "cell_type": "markdown",
   "metadata": {
    "colab_type": "text",
    "id": "qml7Iv9sKwYG"
   },
   "source": [
    "# MIC Workshop 4: Recurrent Neural Networks\n",
    "\n"
   ]
  },
  {
   "cell_type": "markdown",
   "metadata": {
    "colab_type": "text",
    "id": "RNrL3aTpywZr"
   },
   "source": [
    "## Background\n",
    "Hope you're enjoying the first Deep Learning workshop so far! For these workshops, we'll typically use Google Colab, an online coding environment. This is so that we don't have to worry about installing all of the libraries on everyone's different computers. \n",
    "\n",
    "_____\n",
    "You're now working in a Notebook. Notebooks have **cells**, each of which can be run by hitting Shift+Enter. Try it on the cell below!\n",
    "\n",
    "_You will see the output of the particular cell right below it_"
   ]
  },
  {
   "cell_type": "code",
   "execution_count": 0,
   "metadata": {
    "colab": {},
    "colab_type": "code",
    "id": "LIU7z14RW_Nu"
   },
   "outputs": [],
   "source": [
    "print(\"Notebooks are so much fun!!!\")"
   ]
  },
  {
   "cell_type": "markdown",
   "metadata": {
    "colab_type": "text",
    "id": "BfUb8YzkFQRz"
   },
   "source": [
    "In general, notebooks are a very suitable tool for machine learning/data science. We would also recommend trying [Jupyter Notebook](https://jupyter.org/install) if you haven't already\n",
    "\n",
    "_For later workshops, we might opt out for a more involved environment like Docker in case we want to do anything fancier_\n",
    "____\n",
    "## Installing PyTorch\n",
    "Don't worry too much about the contents of this cell. It basically just installs the right packages for you to run PyTorch code\n",
    "\n",
    "If this cell is causing problems for you (like `tcmalloc`,  make sure you click \"connect to Hosted runtime\" from the dropdown menu in the top right)\n"
   ]
  },
  {
   "cell_type": "code",
   "execution_count": 0,
   "metadata": {
    "colab": {
     "base_uri": "https://localhost:8080/",
     "height": 306
    },
    "colab_type": "code",
    "id": "BsvMU7Q7KwzP",
    "outputId": "61b2b8c4-d93b-4c31-f31e-d2a8ac920817"
   },
   "outputs": [
    {
     "name": "stdout",
     "output_type": "stream",
     "text": [
      "\u001b[K    100% |████████████████████████████████| 91.1MB 31.0MB/s \n",
      "\u001b[31mfastai 1.0.49 has requirement numpy>=1.15, but you'll have numpy 1.14.6 which is incompatible.\u001b[0m\n",
      "\u001b[31mfastai 1.0.49 has requirement torch>=1.0.0, but you'll have torch 0.4.1 which is incompatible.\u001b[0m\n",
      "\u001b[?25hCollecting unidecode\n",
      "\u001b[?25l  Downloading https://files.pythonhosted.org/packages/31/39/53096f9217b057cb049fe872b7fc7ce799a1a89b76cf917d9639e7a558b5/Unidecode-1.0.23-py2.py3-none-any.whl (237kB)\n",
      "\u001b[K    100% |████████████████████████████████| 245kB 8.3MB/s \n",
      "\u001b[?25hInstalling collected packages: unidecode\n",
      "Successfully installed unidecode-1.0.23\n",
      "Collecting tensorboardX\n",
      "\u001b[?25l  Downloading https://files.pythonhosted.org/packages/5c/76/89dd44458eb976347e5a6e75eb79fecf8facd46c1ce259bad54e0044ea35/tensorboardX-1.6-py2.py3-none-any.whl (129kB)\n",
      "\u001b[K    100% |████████████████████████████████| 133kB 4.4MB/s \n",
      "\u001b[?25hRequirement already satisfied: six in /usr/local/lib/python3.6/dist-packages (from tensorboardX) (1.11.0)\n",
      "Requirement already satisfied: numpy in /usr/local/lib/python3.6/dist-packages (from tensorboardX) (1.14.6)\n",
      "Requirement already satisfied: protobuf>=3.2.0 in /usr/local/lib/python3.6/dist-packages (from tensorboardX) (3.7.0)\n",
      "Requirement already satisfied: setuptools in /usr/local/lib/python3.6/dist-packages (from protobuf>=3.2.0->tensorboardX) (40.8.0)\n",
      "Installing collected packages: tensorboardX\n",
      "Successfully installed tensorboardX-1.6\n"
     ]
    }
   ],
   "source": [
    "# Installing pytorch, don't worry about the code in this cell. \n",
    "# http://pytorch.org/\n",
    "from os.path import exists\n",
    "from wheel.pep425tags import get_abbr_impl, get_impl_ver, get_abi_tag\n",
    "platform = '{}{}-{}'.format(get_abbr_impl(), get_impl_ver(), get_abi_tag())\n",
    "cuda_output = !ldconfig -p|grep cudart.so|sed -e 's/.*\\.\\([0-9]*\\)\\.\\([0-9]*\\)$/cu\\1\\2/'\n",
    "accelerator = 'cpu' #cuda_output[0] if exists('/dev/nvidia0')\n",
    "\n",
    "!pip install -q http://download.pytorch.org/whl/{accelerator}/torch-0.4.1-{platform}-linux_x86_64.whl torchvision\n",
    "!pip install unidecode\n",
    "!pip install tensorboardX\n",
    "\n",
    "#!pip install tqdm"
   ]
  },
  {
   "cell_type": "markdown",
   "metadata": {
    "colab_type": "text",
    "id": "BsD1YE9g76O2"
   },
   "source": [
    "##Imports\n",
    "\n",
    "The imports for the following exercise are the following :\n",
    "\n",
    "**torch.nn** :  Allows for creation of neural network class\n",
    "\n",
    "**torch.autograd** : torch.autograd provides classes and functions implementing automatic differentiation\n",
    "\n",
    "**tensorboardX** : PyTorch package for Tensorboard visualization"
   ]
  },
  {
   "cell_type": "code",
   "execution_count": 0,
   "metadata": {
    "colab": {},
    "colab_type": "code",
    "id": "zOGCa5JDK17n"
   },
   "outputs": [],
   "source": [
    "import torch\n",
    "import math\n",
    "import torch.nn as nn\n",
    "import torch.optim as optim\n",
    "import numpy as np\n",
    "from torch.autograd import Variable\n",
    "from IPython import display\n",
    "import tqdm\n",
    "import time\n",
    "from tensorboardX import SummaryWriter\n"
   ]
  },
  {
   "cell_type": "code",
   "execution_count": 0,
   "metadata": {
    "colab": {},
    "colab_type": "code",
    "id": "r4kame7P215c"
   },
   "outputs": [],
   "source": [
    "use_cuda = False"
   ]
  },
  {
   "cell_type": "markdown",
   "metadata": {
    "colab_type": "text",
    "id": "WvU9zelr7ivL"
   },
   "source": [
    "#(Optional Exercise)\n",
    "\n",
    "###Use PyTorch to implement cell description."
   ]
  },
  {
   "cell_type": "markdown",
   "metadata": {
    "colab_type": "text",
    "id": "6x4ITg_Fv7zY"
   },
   "source": [
    "###Elman Cell Computation\n",
    "An Elman RNN cell with tanh non-linearity.\n",
    "\n",
    "$$h_t=\\tanh(W_h x_t+U_h h_{t-1}+b_h)$$\n",
    "$$y_t=\\tanh(W_y h_t+b_y)$$"
   ]
  },
  {
   "cell_type": "code",
   "execution_count": 0,
   "metadata": {
    "colab": {},
    "colab_type": "code",
    "id": "L065AM7VUfSa"
   },
   "outputs": [],
   "source": [
    "class RNNCell(nn.Module):\n",
    "    def __init__(self, input_size, hidden_size, output_size):\n",
    "        #TODO: Implement initializations\n",
    "        self.input_size = input_size\n",
    "        self.hidden_size = hidden_size\n",
    "        self.output_size = output_size\n",
    "        \n",
    "    def forward(self, input, hidden):\n",
    "        #TODO: Implement forward pass\n",
    "        \n",
    "        return output, hidden"
   ]
  },
  {
   "cell_type": "markdown",
   "metadata": {
    "colab_type": "text",
    "id": "zK3wy8XmLM1d"
   },
   "source": [
    "# Dataset\n",
    "This dataset is a subset of works by William Shakespeare, this cell block downloads the data, reads and pre-processes and displays an example.\n",
    "\n",
    "\n",
    "You don't need to worry about the format too much now. But in general, getting the data in the necessary format is usually a key (albeit mundane) part of the process. "
   ]
  },
  {
   "cell_type": "code",
   "execution_count": 0,
   "metadata": {
    "colab": {
     "base_uri": "https://localhost:8080/",
     "height": 153
    },
    "colab_type": "code",
    "id": "52KWKp--LRVH",
    "outputId": "44a4cbb3-bbf0-4ae3-cc90-7d22aa832c5b"
   },
   "outputs": [
    {
     "name": "stdout",
     "output_type": "stream",
     "text": [
      "zen:\n",
      "Before we proceed any further, hear me speak.\n",
      "\n",
      "All:\n",
      "Speak, speak.\n",
      "\n",
      "First Citizen:\n",
      "You\n"
     ]
    }
   ],
   "source": [
    "import requests\n",
    "import string\n",
    "import random\n",
    "\n",
    "all_characters = string.printable\n",
    "n_characters = len(all_characters)\n",
    "\n",
    "def DownloadFile(url):\n",
    "    local_filename = url.split('/')[-1]\n",
    "    r = requests.get(url)\n",
    "    return r.text\n",
    "\n",
    "def time_since(since):\n",
    "    s = time.time() - since\n",
    "    m = math.floor(s / 60)\n",
    "    s -= m * 60\n",
    "    return '%dm %ds' % (m, s)\n",
    "  \n",
    "target_url = \"https://raw.githubusercontent.com/cos495/code/master/shakespeare.txt\"\n",
    "data = DownloadFile(target_url)\n",
    "print(data[10:100])"
   ]
  },
  {
   "cell_type": "markdown",
   "metadata": {
    "colab_type": "text",
    "id": "dbXyGCo52dmD"
   },
   "source": [
    "##Pre-processing\n",
    "\n",
    "We take in the downloaded data and create training sets, which are encoded in the form of torch tensors for feeding into the neural network."
   ]
  },
  {
   "cell_type": "code",
   "execution_count": 0,
   "metadata": {
    "colab": {},
    "colab_type": "code",
    "id": "5Jl_FxV3-ZxX"
   },
   "outputs": [],
   "source": [
    "def char_tensor(string):\n",
    "    tensor = torch.zeros(len(string)).long()\n",
    "    for c in range(len(string)):\n",
    "        try:\n",
    "            tensor[c] = all_characters.index(string[c])\n",
    "        except:\n",
    "            continue\n",
    "    return tensor  \n",
    "\n",
    "def random_training_set(chunk_len, batch_size, file):\n",
    "    inp = torch.LongTensor(batch_size, chunk_len)\n",
    "    target = torch.LongTensor(batch_size, chunk_len)\n",
    "    for bi in range(batch_size):\n",
    "        start_index = random.randint(0, len(file) - chunk_len)\n",
    "        end_index = start_index + chunk_len + 1\n",
    "        chunk = file[start_index:end_index]\n",
    "        inp[bi] = char_tensor(chunk[:-1])\n",
    "        target[bi] = char_tensor(chunk[1:])\n",
    "    inp = Variable(inp)\n",
    "    target = Variable(target)\n",
    "    return inp, target"
   ]
  },
  {
   "cell_type": "markdown",
   "metadata": {
    "colab_type": "text",
    "id": "Uw7E1yvHPbMD"
   },
   "source": [
    "#Model\n",
    "\n",
    "#RNN Cell Structure\n",
    "\n",
    "![alt text](https://cdn-images-1.medium.com/max/759/1*UkI9za9zTR-HL8uM15Wmzw.png)\n",
    "\n",
    "\n",
    "The CharRNN (based on Andrej Karpathy's model described in [Unreasonable Effectiveness of RNNs by Andrej Karpathy](http://karpathy.github.io/2015/05/21/rnn-effectiveness/)) works character by character and attempts to predict the next character. This is then assimilated to produce the output.\n",
    "\n",
    "\n",
    "---\n",
    "\n",
    "\n",
    "In this program, we create the CharRNN class, in which we define the parameters of an encoder-decoder framework for text generation, you have the option of either using a vanilla RNN cell using nn.RNN or using a Long Short Term Memory unit (LSTM) using nn.LSTM.\n",
    "\n",
    "In this model, given a sequence of characters from this data (\"Shakespeare\") we train it to predict the next character in the sequence.\n",
    "\n",
    "You will be defining the parameters of the model, read through the documentation to get a feel of what the input to each line is is!\n",
    "\n",
    "\n",
    "\n",
    "[torch.nn.LSTM/RNN/Embedding](https://pytorch.org/docs/stable/nn.html)\n",
    "![alt text](https://chunml.github.io/ChunML.github.io/images/projects/sequence-to-sequence/repeated_vector.png)\n",
    "\n",
    "\n"
   ]
  },
  {
   "cell_type": "markdown",
   "metadata": {
    "colab_type": "text",
    "id": "Z9FA2RAisbzK"
   },
   "source": [
    "---\n",
    "First we will be taking in the data and create an encoding  by creating embeddings and this is will input to the RNN cell, which models the input and predicts the next character, this token is further decoded based on the embedding definition and displayed as the prediction.\n",
    "\n",
    "\n",
    "![alt text](https://camo.githubusercontent.com/00d11e704403d414e272c35bf89c9428e6d4d2ca/68747470733a2f2f692e696d6775722e636f6d2f4a4835387458592e706e67)\n",
    "\n",
    "\n",
    "\n"
   ]
  },
  {
   "cell_type": "code",
   "execution_count": 0,
   "metadata": {
    "colab": {},
    "colab_type": "code",
    "id": "YM-RJy9gNcT3"
   },
   "outputs": [],
   "source": [
    "# https://github.com/spro/char-rnn.pytorch\n",
    "class CharRNN(nn.Module):\n",
    "    def __init__(self, input_size, hidden_size, output_size, model, n_layers=1):\n",
    "        super(CharRNN, self).__init__()\n",
    "        self.model = model.lower()\n",
    "        self.input_size = input_size\n",
    "        self.hidden_size = hidden_size\n",
    "        self.output_size = output_size\n",
    "        self.n_layers = n_layers\n",
    "        \n",
    "        #https://pytorch.org/docs/stable/nn.html\n",
    "        \n",
    "        \n",
    "        self.encoder = nn.Embedding(input_size,hidden_size,padding_idx = 0)  \n",
    "        self.rnn = nn.RNN(hidden_size,hidden_size,n_layers)\n",
    "        if model==\"lstm\":\n",
    "          self.rnn = nn.LSTM(hidden_size,hidden_size,n_layers)\n",
    "          \n",
    "        self.decoder = nn.Linear(hidden_size, output_size)\n",
    "\n",
    "    def forward(self, input, hidden):\n",
    "        batch_size = input.size(0)\n",
    "        encoded = self.encoder(input)\n",
    "        output, hidden = self.rnn(encoded.view(1, batch_size, -1), hidden)\n",
    "        output = self.decoder(output.view(batch_size, -1))\n",
    "        return output, hidden\n",
    "\n",
    "    def init_hidden(self, batch_size):\n",
    "        if self.model == \"lstm\":\n",
    "            return (Variable(torch.zeros(self.n_layers, batch_size, self.hidden_size)),\n",
    "                    Variable(torch.zeros(self.n_layers, batch_size, self.hidden_size)))\n",
    "        return Variable(torch.zeros(self.n_layers, batch_size, self.hidden_size))"
   ]
  },
  {
   "cell_type": "markdown",
   "metadata": {
    "colab_type": "text",
    "id": "QjolCWdP1fkS"
   },
   "source": [
    "#Training\n",
    "\n",
    "Now that you have defined the forward pass of the neural network it is time to define the parameters for training.\n",
    "\n",
    "**Hidden Size** - This is the number of hidden units present in the RNN cell.\n",
    "\n",
    "**Learning Rate** - Learning rate is a hyper-parameter that controls how much we are adjusting the weights of our network with respect the loss gradient.\n",
    "\n",
    "**Model** : RNN or LSTM (LSTM takes longer to train)\n",
    "\n",
    "**n_layers** - Number of RNN Layers, the recommended number is 1 or 2."
   ]
  },
  {
   "cell_type": "markdown",
   "metadata": {
    "colab_type": "text",
    "id": "KB9xsWiEQhkU"
   },
   "source": [
    "###Iinitialize the model"
   ]
  },
  {
   "cell_type": "code",
   "execution_count": 0,
   "metadata": {
    "colab": {},
    "colab_type": "code",
    "id": "ZDV_0GRbLtXw"
   },
   "outputs": [],
   "source": [
    "\n",
    "hidden_size = 500\n",
    "learning_rate = 0.001\n",
    "model = \"RNN\"\n",
    "n_layers = 1\n",
    "\n",
    "decoder = CharRNN(\n",
    "    n_characters,\n",
    "    hidden_size,\n",
    "    n_characters,\n",
    "    model,\n",
    "    n_layers=n_layers,\n",
    ")\n",
    "decoder_optimizer = torch.optim.Adam(decoder.parameters(), lr=learning_rate)\n",
    "criterion = nn.CrossEntropyLoss()\n",
    "\n",
    "if use_cuda:\n",
    "    decoder.cuda()"
   ]
  },
  {
   "cell_type": "markdown",
   "metadata": {
    "colab_type": "text",
    "id": "ilkYK2mE0HbQ"
   },
   "source": [
    "**chunk_len** - Size of the random chunck of data used in every training pass\n",
    "\n",
    "**n_epochs** - Number of epochs for which the training will run.\n",
    "\n",
    "**print_every** - Frequency with which you want to print predictions\n",
    "\n",
    "**batch_size** - Number of training examples per batch (Number of chunks per batch)"
   ]
  },
  {
   "cell_type": "code",
   "execution_count": 0,
   "metadata": {
    "colab": {},
    "colab_type": "code",
    "id": "GRdaN2-FRndV"
   },
   "outputs": [],
   "source": [
    "n_epochs = 200\n",
    "chunk_len = 20\n",
    "print_every = 10\n",
    "batch_size = 100\n"
   ]
  },
  {
   "cell_type": "markdown",
   "metadata": {
    "colab_type": "text",
    "id": "H3bFZTUxwBlm"
   },
   "source": [
    "#Backpropagation"
   ]
  },
  {
   "cell_type": "code",
   "execution_count": 0,
   "metadata": {
    "colab": {},
    "colab_type": "code",
    "id": "5KPmkvGJPkNt"
   },
   "outputs": [],
   "source": [
    "def train(inp, target):\n",
    "    hidden = decoder.init_hidden(batch_size)\n",
    "    if use_cuda:\n",
    "        hidden = hidden.cuda()\n",
    "    decoder.zero_grad()\n",
    "    loss = 0\n",
    "\n",
    "    for c in range(chunk_len):\n",
    "        output, hidden = decoder(inp[:,c], hidden)\n",
    "        loss += criterion(output.view(batch_size, -1), target[:,c])\n",
    "\n",
    "    loss.backward()\n",
    "    decoder_optimizer.step()\n",
    "\n",
    "    return loss.item() / chunk_len, hidden"
   ]
  },
  {
   "cell_type": "markdown",
   "metadata": {
    "colab_type": "text",
    "id": "V8M-FSO-TTLF"
   },
   "source": [
    "# Generate Text\n",
    "\n",
    "In this cell, we are declaring a starting character which serves as the token or seed the first input, which the RNN will use to start predicting the next character\n",
    "\n",
    "**predict_len** - Length of prediction expected\n",
    "\n",
    "**Temperature** - Temperature is a hyperparameter of LSTMs (and neural networks generally) used to control the randomness of predictions by scaling the logits before applying softmax. \n",
    "\n",
    "![alt text](https://docs.google.com/uc?id=13nBWDE7RXlnMmT2g_BJQ4brFO7YIuh1Q)\n",
    "\n",
    "**cuda** - Run generate on GPU.\n"
   ]
  },
  {
   "cell_type": "code",
   "execution_count": 0,
   "metadata": {
    "colab": {},
    "colab_type": "code",
    "id": "Gh4cIaRDS23s"
   },
   "outputs": [],
   "source": [
    "def generate(decoder, prime_str='A', predict_len=100, temperature=0.8, cuda=False):\n",
    "    hidden = decoder.init_hidden(1)\n",
    "    prime_input = Variable(char_tensor(prime_str).unsqueeze(0))\n",
    "    \n",
    "    predicted = prime_str\n",
    "\n",
    "    # Use priming string to \"build up\" hidden state\n",
    "    for p in range(len(prime_str) - 1):\n",
    "        _, hidden = decoder(prime_input[:,p], hidden)\n",
    "        \n",
    "    inp = prime_input[:,-1]\n",
    "    \n",
    "    for p in range(predict_len):\n",
    "        output, hidden = decoder(inp, hidden)\n",
    "        \n",
    "        # Sample from the network as a multinomial distribution\n",
    "        output_dist = output.data.view(-1).div(temperature).exp()\n",
    "        top_i = torch.multinomial(output_dist, 1)[0]\n",
    "\n",
    "        # Add predicted character to string and use as next input\n",
    "        predicted_char = all_characters[top_i]\n",
    "        predicted += predicted_char\n",
    "        inp = Variable(char_tensor(predicted_char).unsqueeze(0))\n",
    "\n",
    "    return predicted"
   ]
  },
  {
   "cell_type": "markdown",
   "metadata": {
    "colab_type": "text",
    "id": "xkimd5lvIH8p"
   },
   "source": [
    "#Training"
   ]
  },
  {
   "cell_type": "code",
   "execution_count": 0,
   "metadata": {
    "colab": {
     "base_uri": "https://localhost:8080/",
     "height": 2193
    },
    "colab_type": "code",
    "id": "riXDDbny1-DF",
    "outputId": "34dbb489-6fdb-4403-8bae-8e8c8992089a"
   },
   "outputs": [
    {
     "name": "stderr",
     "output_type": "stream",
     "text": [
      "\r",
      "  0%|          | 0/200 [00:00<?, ?it/s]"
     ]
    },
    {
     "name": "stdout",
     "output_type": "stream",
     "text": [
      "Training for 200 epochs...\n"
     ]
    },
    {
     "name": "stderr",
     "output_type": "stream",
     "text": [
      "  5%|▌         | 10/200 [00:01<00:38,  4.88it/s]"
     ]
    },
    {
     "name": "stdout",
     "output_type": "stream",
     "text": [
      "[0m 1s (10 5%) 2.7424]\n",
      "loss:  2.742435264587402\n",
      "Whou dous bors\n",
      "Tor, kth mhouvec wihat, woud aait as hal hat fit an sond linleurgd y mand basy or hiith \n",
      "\n"
     ]
    },
    {
     "name": "stderr",
     "output_type": "stream",
     "text": [
      " 10%|█         | 20/200 [00:03<00:36,  4.92it/s]"
     ]
    },
    {
     "name": "stdout",
     "output_type": "stream",
     "text": [
      "[0m 3s (20 10%) 2.4619]\n",
      "loss:  2.461871528625488\n",
      "Whine ty shatu sll nechat sead tre it is orfor thand 'n.\n",
      "\n",
      "Sy to ghe the thir lis vouste kn sh yowe an  \n",
      "\n"
     ]
    },
    {
     "name": "stderr",
     "output_type": "stream",
     "text": [
      " 15%|█▌        | 30/200 [00:05<00:33,  5.13it/s]"
     ]
    },
    {
     "name": "stdout",
     "output_type": "stream",
     "text": [
      "[0m 5s (30 15%) 2.3536]\n",
      "loss:  2.353593635559082\n",
      "Wher foorith an as gour sand yould to, areterthe sale seace,.\n",
      "\n",
      "PETRDUS:\n",
      "IUCENIA mytu worent thea th gh \n",
      "\n"
     ]
    },
    {
     "name": "stderr",
     "output_type": "stream",
     "text": [
      " 20%|██        | 40/200 [00:07<00:30,  5.17it/s]"
     ]
    },
    {
     "name": "stdout",
     "output_type": "stream",
     "text": [
      "[0m 7s (40 20%) 2.2903]\n",
      "loss:  2.290310287475586\n",
      "Wh wil that ou tile thed uneds:es you the'd of frein't; spard me ame jeman ea the wich sreqred the han \n",
      "\n"
     ]
    },
    {
     "name": "stderr",
     "output_type": "stream",
     "text": [
      " 25%|██▌       | 50/200 [00:09<00:29,  5.09it/s]"
     ]
    },
    {
     "name": "stdout",
     "output_type": "stream",
     "text": [
      "[0m 9s (50 25%) 2.1749]\n",
      "loss:  2.1749174118041994\n",
      "When don most de\n",
      "The harking sade, may he fand andere, hit the conesuno outhand Is.\n",
      "\n",
      "AUARI:\n",
      "\n",
      "Fole the  \n",
      "\n"
     ]
    },
    {
     "name": "stderr",
     "output_type": "stream",
     "text": [
      " 30%|███       | 60/200 [00:11<00:27,  5.08it/s]"
     ]
    },
    {
     "name": "stdout",
     "output_type": "stream",
     "text": [
      "[0m 11s (60 30%) 2.1723]\n",
      "loss:  2.172323799133301\n",
      "Whained he puith and hame heeld cowe sere for:\n",
      "Tham spare in the\n",
      "Se toll mabe seawt to my you head buy \n",
      "\n"
     ]
    },
    {
     "name": "stderr",
     "output_type": "stream",
     "text": [
      " 35%|███▌      | 70/200 [00:13<00:25,  5.14it/s]"
     ]
    },
    {
     "name": "stdout",
     "output_type": "stream",
     "text": [
      "[0m 13s (70 35%) 2.1555]\n",
      "loss:  2.1555456161499023\n",
      "Who guine lo sell aon dot\n",
      "Whe dueat the thus no hour Syour that knot fore he wall broull wo sing, it y \n",
      "\n"
     ]
    },
    {
     "name": "stderr",
     "output_type": "stream",
     "text": [
      " 40%|████      | 80/200 [00:15<00:23,  5.06it/s]"
     ]
    },
    {
     "name": "stdout",
     "output_type": "stream",
     "text": [
      "[0m 15s (80 40%) 2.1153]\n",
      "loss:  2.1152873992919923\n",
      "Whauld the geather your his oot en heac?\n",
      "\n",
      "KING CARV:\n",
      "I the diviso in forter your he geacienien;\n",
      "Gy ben \n",
      "\n"
     ]
    },
    {
     "name": "stderr",
     "output_type": "stream",
     "text": [
      " 45%|████▌     | 90/200 [00:17<00:21,  5.00it/s]"
     ]
    },
    {
     "name": "stdout",
     "output_type": "stream",
     "text": [
      "[0m 17s (90 45%) 2.0483]\n",
      "loss:  2.048330307006836\n",
      "Whture'd the yon, ss to had stane the with am thour the man is to will but the rith eas for for the ca \n",
      "\n"
     ]
    },
    {
     "name": "stderr",
     "output_type": "stream",
     "text": [
      " 50%|█████     | 100/200 [00:19<00:20,  4.94it/s]"
     ]
    },
    {
     "name": "stdout",
     "output_type": "stream",
     "text": [
      "[0m 19s (100 50%) 2.0655]\n",
      "loss:  2.0654836654663087\n",
      "Whe yout that, the dich for the have beang?\n",
      "\n",
      "Sircen onm, that mid,\n",
      "'ich os bo say you,\n",
      "The cawe; be ro \n",
      "\n"
     ]
    },
    {
     "name": "stderr",
     "output_type": "stream",
     "text": [
      " 55%|█████▌    | 110/200 [00:20<00:18,  4.98it/s]"
     ]
    },
    {
     "name": "stdout",
     "output_type": "stream",
     "text": [
      "[0m 20s (110 55%) 2.0240]\n",
      "loss:  2.024038314819336\n",
      "Whis lored savertes conad my he lackaru, for dade dew, and here have wilt. and nourter.\n",
      "\n",
      "CABEURIO:\n",
      "My  \n",
      "\n"
     ]
    },
    {
     "name": "stderr",
     "output_type": "stream",
     "text": [
      " 60%|██████    | 120/200 [00:22<00:15,  5.02it/s]"
     ]
    },
    {
     "name": "stdout",
     "output_type": "stream",
     "text": [
      "[0m 22s (120 60%) 1.9800]\n",
      "loss:  1.9799598693847655\n",
      "Whe shaugh a treart ind nue here mustio.\n",
      "\n",
      "COLINGHLO:\n",
      "O are that I'll:\n",
      "HAMING EDWARD:\n",
      "Bet son, for mest \n",
      "\n"
     ]
    },
    {
     "name": "stderr",
     "output_type": "stream",
     "text": [
      " 65%|██████▌   | 130/200 [00:24<00:14,  4.94it/s]"
     ]
    },
    {
     "name": "stdout",
     "output_type": "stream",
     "text": [
      "[0m 24s (130 65%) 1.9740]\n",
      "loss:  1.9739503860473633\n",
      "Wht with Lorn,\n",
      "That it and your dees.\n",
      "Sur be the poor bliess and againce pose and me the have is cold. \n",
      "\n"
     ]
    },
    {
     "name": "stderr",
     "output_type": "stream",
     "text": [
      " 70%|███████   | 140/200 [00:26<00:12,  4.94it/s]"
     ]
    },
    {
     "name": "stdout",
     "output_type": "stream",
     "text": [
      "[0m 26s (140 70%) 2.0223]\n",
      "loss:  2.0223390579223635\n",
      "Whoure\n",
      "Thy Carmonged my is the him the oo shoud frill all and should sponet shoor nes stather of fain  \n",
      "\n"
     ]
    },
    {
     "name": "stderr",
     "output_type": "stream",
     "text": [
      " 75%|███████▌  | 150/200 [00:28<00:09,  5.02it/s]"
     ]
    },
    {
     "name": "stdout",
     "output_type": "stream",
     "text": [
      "[0m 28s (150 75%) 1.9149]\n",
      "loss:  1.9149349212646485\n",
      "What, yeake the feat be fall that the anien:\n",
      "Dich vith so refalie.\n",
      "\n",
      "CIPELO*:\n",
      "Ny lirst this lian dest t \n",
      "\n"
     ]
    },
    {
     "name": "stderr",
     "output_type": "stream",
     "text": [
      " 80%|████████  | 160/200 [00:30<00:08,  4.96it/s]"
     ]
    },
    {
     "name": "stdout",
     "output_type": "stream",
     "text": [
      "[0m 30s (160 80%) 1.9787]\n",
      "loss:  1.9787225723266602\n",
      "Why me this dithinese fine to it it subert fighath is the stase and trusest her welveld to thy Serpton \n",
      "\n"
     ]
    },
    {
     "name": "stderr",
     "output_type": "stream",
     "text": [
      " 85%|████████▌ | 170/200 [00:32<00:06,  4.96it/s]"
     ]
    },
    {
     "name": "stdout",
     "output_type": "stream",
     "text": [
      "[0m 32s (170 85%) 2.0125]\n",
      "loss:  2.012546730041504\n",
      "Wheth\n",
      "Where to seef gronque the blown lords though And which her you hake peake thes have dray: what w \n",
      "\n"
     ]
    },
    {
     "name": "stderr",
     "output_type": "stream",
     "text": [
      " 90%|█████████ | 180/200 [00:34<00:03,  5.13it/s]"
     ]
    },
    {
     "name": "stdout",
     "output_type": "stream",
     "text": [
      "[0m 34s (180 90%) 1.8622]\n",
      "loss:  1.8622039794921874\n",
      "Why, to the of mantie.\n",
      "\n",
      "LUCENTES:\n",
      "He with they grive slison prome to gros, theaigs now, thee hound by  \n",
      "\n"
     ]
    },
    {
     "name": "stderr",
     "output_type": "stream",
     "text": [
      " 95%|█████████▌| 190/200 [00:36<00:02,  4.86it/s]"
     ]
    },
    {
     "name": "stdout",
     "output_type": "stream",
     "text": [
      "[0m 36s (190 95%) 1.9022]\n",
      "loss:  1.9021902084350586\n",
      "When peen wating and broth tellence,\n",
      "Whall and net were, is nince Durnt sach all the gead thee hat bec \n",
      "\n"
     ]
    },
    {
     "name": "stderr",
     "output_type": "stream",
     "text": [
      "100%|██████████| 200/200 [00:38<00:00,  5.01it/s]"
     ]
    },
    {
     "name": "stdout",
     "output_type": "stream",
     "text": [
      "[0m 38s (200 100%) 1.9281]\n",
      "loss:  1.9280763626098634\n",
      "Wher may on not good you carposs me out be cead, here your then the lives\n",
      "Cropselt: that.\n",
      "\n",
      "LUCHIO:\n",
      "See \n",
      "\n"
     ]
    },
    {
     "name": "stderr",
     "output_type": "stream",
     "text": [
      "\n"
     ]
    }
   ],
   "source": [
    "start = time.time()\n",
    "loss_all = []\n",
    "writer = SummaryWriter()\n",
    "print(\"Training for %d epochs...\" % n_epochs)\n",
    "for epoch in tqdm.tqdm(range(1, n_epochs + 1)):\n",
    "    loss = train(*random_training_set(chunk_len, batch_size, data))[0]\n",
    "    loss_all.append(loss)\n",
    "    writer.add_scalar('Training Loss', loss, epoch)\n",
    "    #writer.add_histogram(\"hist\", (train(*random_training_set(chunk_len, batch_size, data))[1]).detach().numpy(), epoch)\n",
    "    if epoch % print_every == 0:\n",
    "      print('[%s (%d %d%%) %.4f]' % (time_since(start), epoch, epoch / n_epochs * 100, loss))\n",
    "      print('loss: ', loss)\n",
    "      print(generate(decoder, 'Wh', 100, cuda=use_cuda), '\\n')"
   ]
  },
  {
   "cell_type": "code",
   "execution_count": 0,
   "metadata": {
    "colab": {
     "base_uri": "https://localhost:8080/",
     "height": 282
    },
    "colab_type": "code",
    "id": "CmkwHEew0oU8",
    "outputId": "9d6144eb-9436-426d-bc74-01a412d05323"
   },
   "outputs": [
    {
     "data": {
      "text/plain": [
       "[<matplotlib.lines.Line2D at 0x7f13adf1b0f0>]"
      ]
     },
     "execution_count": 81,
     "metadata": {
      "tags": []
     },
     "output_type": "execute_result"
    },
    {
     "data": {
      "image/png": "[encoded data removed]",
      "text/plain": [
       "<Figure size 432x288 with 1 Axes>"
      ]
     },
     "metadata": {
      "tags": []
     },
     "output_type": "display_data"
    }
   ],
   "source": [
    "import matplotlib.pyplot as plt\n",
    "import matplotlib.ticker as ticker\n",
    "%matplotlib inline\n",
    "\n",
    "plt.figure()\n",
    "plt.plot(loss_all)"
   ]
  },
  {
   "cell_type": "markdown",
   "metadata": {
    "colab_type": "text",
    "id": "7snNirbPzaDk"
   },
   "source": [
    "\n",
    "### Let's try sampling with high temperature:"
   ]
  },
  {
   "cell_type": "code",
   "execution_count": 0,
   "metadata": {
    "colab": {
     "base_uri": "https://localhost:8080/",
     "height": 34
    },
    "colab_type": "code",
    "id": "0oCPS6kzRK4w",
    "outputId": "d8561f8b-dd58-4131-84f2-ec03fccdc25a"
   },
   "outputs": [
    {
     "data": {
      "text/plain": [
       "\"art thy7@Js-YgH|Upt3$.Pb#>c{\\\\{k{:%]];O51+%QV\\n}DIYIL!)AFmwX$F_xhQ )WJ*H'%.[!TuxB\\x0c84p.>y\\\\rFG%^zfMUi^ 0gruvs>,\""
      ]
     },
     "execution_count": 82,
     "metadata": {
      "tags": []
     },
     "output_type": "execute_result"
    }
   ],
   "source": [
    "generate(decoder, prime_str=\"art thy\", temperature= 100, cuda=use_cuda)"
   ]
  },
  {
   "cell_type": "markdown",
   "metadata": {
    "colab_type": "text",
    "id": "q1g9IOY-zmZ8"
   },
   "source": [
    "\n",
    "\n",
    "### Let's try sampling with low temperature:"
   ]
  },
  {
   "cell_type": "code",
   "execution_count": 0,
   "metadata": {
    "colab": {
     "base_uri": "https://localhost:8080/",
     "height": 34
    },
    "colab_type": "code",
    "id": "77ijhzn9Tc1C",
    "outputId": "97d3e59b-92af-4d0f-a6a3-dc2139e96073"
   },
   "outputs": [
    {
     "data": {
      "text/plain": [
       "\"My lady not now's welt the wise and he hath the deart me this you him streain un the streater so prient she\""
      ]
     },
     "execution_count": 86,
     "metadata": {
      "tags": []
     },
     "output_type": "execute_result"
    }
   ],
   "source": [
    "generate(decoder, prime_str=\"My lady\", temperature= 0.6, cuda=use_cuda)"
   ]
  },
  {
   "cell_type": "markdown",
   "metadata": {
    "colab_type": "text",
    "id": "O2KRkbkm1MT_"
   },
   "source": [
    "#Feedback Survey\n",
    "Don't forget to fill out the feedback survey [here](https://goo.gl/rXV5EQ) for suggestions on how we can improve our future workshops!"
   ]
  },
  {
   "cell_type": "markdown",
   "metadata": {
    "colab_type": "text",
    "id": "I88wTPCJ1bls"
   },
   "source": [
    "##Citations\n",
    "\n",
    "Adapted from https://github.com/spro/char-rnn.pytorch\n",
    "\n"
   ]
  }
 ],
 "metadata": {
  "accelerator": "GPU",
  "colab": {
   "collapsed_sections": [],
   "name": "Copy of MIC Workshop 4 : Recurrent Neural Networks.ipynb",
   "provenance": [],
   "version": "0.3.2"
  },
  "kernelspec": {
   "display_name": "Python 3",
   "language": "python",
   "name": "python3"
  },
  "language_info": {
   "codemirror_mode": {
    "name": "ipython",
    "version": 3
   },
   "file_extension": ".py",
   "mimetype": "text/x-python",
   "name": "python",
   "nbconvert_exporter": "python",
   "pygments_lexer": "ipython3",
   "version": "3.7.1"
  }
 },
 "nbformat": 4,
 "nbformat_minor": 1
}
